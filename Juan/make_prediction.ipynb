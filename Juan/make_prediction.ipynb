{
 "cells": [
  {
   "cell_type": "code",
   "execution_count": 33,
   "metadata": {},
   "outputs": [],
   "source": [
    "import pickle\n",
    "import numpy as np\n",
    "from sklearn.ensemble import RandomForestClassifier\n",
    "\n",
    "def load_model(model_file):\n",
    "    clf = pickle.load(open(model_file,\"rb\"))\n",
    "    return clf\n",
    "\n",
    "def prediction_model(jsonData):\n",
    "\n",
    "    #load model\n",
    "    clf = load_model('model.sav')\n",
    "\n",
    "\n",
    "    #assign variables\n",
    "    highBP = jsonData[\"highBP\"]\n",
    "    highChol = jsonData[\"highChol\"]\n",
    "    bmi = jsonData[\"bmi\"]\n",
    "    age = jsonData[\"age\"]\n",
    "    genHealth = jsonData[\"genHlth\"]\n",
    "    hrtDiseaseOrAttack = jsonData[\"heartDiseaseorAttack\"]\n",
    "    diffWalk = jsonData[\"diffWalk\"]\n",
    "   \n",
    "    #organize in an array\n",
    "    features = np.array([highBP, highChol, bmi, hrtDiseaseOrAttack, genHealth, diffWalk, age])\n",
    "    prediction = clf.predict(features.reshape(1,-1))\n",
    "    prob = clf.predict_proba(features.reshape(1,-1))\n",
    "    return [prediction, prob]"
   ]
  },
  {
   "cell_type": "code",
   "execution_count": 35,
   "metadata": {},
   "outputs": [
    {
     "name": "stdout",
     "output_type": "stream",
     "text": [
      "[array([0.]), array([[0.7900229, 0.2099771]])]\n",
      "[array([0.]), array([[0.74037636, 0.25962364]])]\n",
      "[array([0.]), array([[0.58365658, 0.41634342]])]\n"
     ]
    },
    {
     "name": "stderr",
     "output_type": "stream",
     "text": [
      "c:\\Users\\jrmot\\anaconda3\\envs\\myenv\\Lib\\site-packages\\sklearn\\base.py:439: UserWarning: X does not have valid feature names, but RandomForestClassifier was fitted with feature names\n",
      "  warnings.warn(\n",
      "c:\\Users\\jrmot\\anaconda3\\envs\\myenv\\Lib\\site-packages\\sklearn\\base.py:439: UserWarning: X does not have valid feature names, but RandomForestClassifier was fitted with feature names\n",
      "  warnings.warn(\n",
      "c:\\Users\\jrmot\\anaconda3\\envs\\myenv\\Lib\\site-packages\\sklearn\\base.py:439: UserWarning: X does not have valid feature names, but RandomForestClassifier was fitted with feature names\n",
      "  warnings.warn(\n",
      "c:\\Users\\jrmot\\anaconda3\\envs\\myenv\\Lib\\site-packages\\sklearn\\base.py:439: UserWarning: X does not have valid feature names, but RandomForestClassifier was fitted with feature names\n",
      "  warnings.warn(\n",
      "c:\\Users\\jrmot\\anaconda3\\envs\\myenv\\Lib\\site-packages\\sklearn\\base.py:439: UserWarning: X does not have valid feature names, but RandomForestClassifier was fitted with feature names\n",
      "  warnings.warn(\n",
      "c:\\Users\\jrmot\\anaconda3\\envs\\myenv\\Lib\\site-packages\\sklearn\\base.py:439: UserWarning: X does not have valid feature names, but RandomForestClassifier was fitted with feature names\n",
      "  warnings.warn(\n"
     ]
    }
   ],
   "source": [
    "import json\n",
    "load_model(\"model.sav\")\t\n",
    "data = json.loads('{\"name\": \"John\", \"age\": 13, \"bmi\": 29.0, \"genHlth\": 3, \"highBP\": 1, \"diffWalk\": 0, \"highChol\": 0, \"heartDiseaseorAttack\": 0}')\n",
    "data_2 = json.loads('{\"name\": \"Lisa\", \"age\": 11, \"bmi\": 28.0, \"genHlth\": 3, \"highBP\": 1, \"diffWalk\": 0, \"highChol\": 1, \"heartDiseaseorAttack\": 0}')\n",
    "data_3 = json.loads('{\"name\": \"Marc\", \"age\": 13, \"bmi\": 40.0, \"genHlth\": 2, \"highBP\": 1, \"diffWalk\": 1, \"highChol\": 1, \"heartDiseaseorAttack\": 1}')\n",
    "\n",
    "print(prediction_model(data))\n",
    "print(prediction_model(data_2))\n",
    "print(prediction_model(data_3))"
   ]
  },
  {
   "cell_type": "code",
   "execution_count": null,
   "metadata": {},
   "outputs": [],
   "source": []
  }
 ],
 "metadata": {
  "kernelspec": {
   "display_name": "myenv",
   "language": "python",
   "name": "python3"
  },
  "language_info": {
   "codemirror_mode": {
    "name": "ipython",
    "version": 3
   },
   "file_extension": ".py",
   "mimetype": "text/x-python",
   "name": "python",
   "nbconvert_exporter": "python",
   "pygments_lexer": "ipython3",
   "version": "3.11.5"
  }
 },
 "nbformat": 4,
 "nbformat_minor": 2
}
