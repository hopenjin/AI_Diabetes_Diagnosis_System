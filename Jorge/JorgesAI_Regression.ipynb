{
 "cells": [
  {
   "cell_type": "code",
   "execution_count": 9,
   "id": "7be22a2c",
   "metadata": {},
   "outputs": [],
   "source": [
    "import pandas as pd\n",
    "import io\n",
    "from sklearn.model_selection import train_test_split\n",
    "from sklearn.linear_model import LogisticRegression\n",
    "from sklearn.preprocessing import StandardScaler\n",
    "from sklearn.metrics import accuracy_score, classification_report\n",
    "from imblearn.under_sampling import RandomUnderSampler"
   ]
  },
  {
   "cell_type": "markdown",
   "id": "bd0ccf01",
   "metadata": {},
   "source": [
    "diabetes_binary_5050split_health_indicators_BRFSS2015.csv is a clean dataset of 70,692 survey responses to the CDC's BRFSS2015. It has an equal 50-50 split of respondents with no diabetes and with either prediabetes or diabetes. The target variable Diabetes_binary has 2 classes. 0 is for no diabetes, and 1 is for prediabetes or diabetes. This dataset has 21 feature variables and **is balanced.**"
   ]
  },
  {
   "cell_type": "code",
   "execution_count": 45,
   "id": "d7d664f0",
   "metadata": {},
   "outputs": [
    {
     "name": "stdout",
     "output_type": "stream",
     "text": [
      "Accuracy: 0.7484263384963576\n",
      "Classification Report:\n",
      "              precision    recall  f1-score   support\n",
      "\n",
      "         0.0       0.76      0.73      0.74      7090\n",
      "         1.0       0.74      0.77      0.75      7049\n",
      "\n",
      "    accuracy                           0.75     14139\n",
      "   macro avg       0.75      0.75      0.75     14139\n",
      "weighted avg       0.75      0.75      0.75     14139\n",
      "\n"
     ]
    }
   ],
   "source": [
    "data = pd.read_csv(\"/Users/jorgegutierrezjr./Downloads/diabetes_binary_5050split_health_indicators_BRFSS2015.csv\")\n",
    "# below is the Features values\n",
    "X = data.drop(\"Diabetes_binary\", axis=1)  # Features\n",
    "y = data[\"Diabetes_binary\"]  # Target variable\n",
    "\n",
    "# split data into training and testing sets\n",
    " #decide how to split them, 2/8..1/9...4/6..\n",
    "X_train, X_test, y_train, y_test = train_test_split(X, y, test_size=0.2, random_state=42)\n",
    "\n",
    "#making the model and testing\n",
    "model = LogisticRegression(solver='lbfgs', max_iter=1000)\n",
    "model.fit(X_train, y_train)\n",
    "\n",
    "predictions = model.predict(X_test)\n",
    "\n",
    "#resulting accuracy\n",
    "accuracy = accuracy_score(y_test, predictions)\n",
    "print(f'Accuracy: {accuracy}')\n",
    "print('Classification Report:')\n",
    "print(classification_report(y_test, predictions))"
   ]
  },
  {
   "cell_type": "code",
   "execution_count": 48,
   "id": "441f5a25",
   "metadata": {},
   "outputs": [
    {
     "name": "stdout",
     "output_type": "stream",
     "text": [
      "0.0    218334\n",
      "1.0     35346\n",
      "Name: Diabetes_binary, dtype: int64\n"
     ]
    },
    {
     "data": {
      "text/plain": [
       "<AxesSubplot:ylabel='Diabetes_binary'>"
      ]
     },
     "execution_count": 48,
     "metadata": {},
     "output_type": "execute_result"
    },
    {
     "data": {
      "image/png": "[encoded data removed]",
      "text/plain": [
       "<Figure size 432x288 with 1 Axes>"
      ]
     },
     "metadata": {},
     "output_type": "display_data"
    }
   ],
   "source": [
    "print(y.value_counts())\n",
    "y.value_counts().plot.pie(autopct='%.2f')"
   ]
  },
  {
   "cell_type": "markdown",
   "id": "a61ea197",
   "metadata": {},
   "source": [
    "diabetes_binary_health_indicators_BRFSS2015.csv is a clean dataset of 253,680 survey responses to the CDC's BRFSS2015. The target variable Diabetes_binary has 2 classes. 0 is for no diabetes, and 1 is for prediabetes or diabetes. This dataset has 21 feature variables and is not balanced.\n",
    "**I NEED TO BALANCE THIS DATA**"
   ]
  },
  {
   "cell_type": "code",
   "execution_count": 47,
   "id": "39273be5",
   "metadata": {},
   "outputs": [
    {
     "name": "stdout",
     "output_type": "stream",
     "text": [
      "Accuracy: 0.7323596657205929\n",
      "Classification Report:\n",
      "              precision    recall  f1-score   support\n",
      "\n",
      "         0.0       0.95      0.73      0.82     43739\n",
      "         1.0       0.31      0.78      0.44      6997\n",
      "\n",
      "    accuracy                           0.73     50736\n",
      "   macro avg       0.63      0.75      0.63     50736\n",
      "weighted avg       0.86      0.73      0.77     50736\n",
      "\n"
     ]
    }
   ],
   "source": [
    "data = pd.read_csv(\"/Users/jorgegutierrezjr./Downloads/diabetes_binary_health_indicators_BRFSS2015.csv\")\n",
    "# below is the Features values\n",
    "#print(data)\n",
    "X = data.drop(\"Diabetes_binary\", axis=1)  # Features\n",
    "y = data[\"Diabetes_binary\"]  # Target variable\n",
    "\n",
    "#split data into training and testing sets\n",
    "#decide how to split them, 2/8..1/9...4/6..\n",
    "X_train, X_test, y_train, y_test = train_test_split(X, y, test_size=0.2, random_state=42)\n",
    "\n",
    "\n",
    "random_UnderSampled = RandomUnderSampler(sampling_strategy=1)\n",
    "X_train_resampled, y_train_resampled = random_UnderSampled.fit_resample(X_train, y_train) #valueerror\n",
    "\n",
    "\n",
    "model = LogisticRegression(solver='lbfgs', max_iter=1000)\n",
    "\n",
    "model.fit(X_train_resampled, y_train_resampled)\n",
    "\n",
    "\n",
    "predictions = model.predict(X_test)\n",
    "\n",
    "#resulting accuracy\n",
    "accuracy = accuracy_score(y_test, predictions)\n",
    "print(f'Accuracy: {accuracy}')\n",
    "print('Classification Report:')\n",
    "print(classification_report(y_test, predictions))"
   ]
  },
  {
   "cell_type": "markdown",
   "id": "433689ef",
   "metadata": {},
   "source": [
    "diabetes_012_health_indicators_BRFSS2015.csv is a clean dataset of 253,680 survey responses to the CDC's BRFSS2015. The target variable Diabetes_012 has 3 classes. 0 is for no diabetes or only during pregnancy, 1 is for prediabetes, and 2 is for diabetes. There is class **imbalance** in this dataset. This dataset has 21 feature variables"
   ]
  },
  {
   "cell_type": "code",
   "execution_count": 33,
   "id": "eadef299",
   "metadata": {},
   "outputs": [
    {
     "name": "stdout",
     "output_type": "stream",
     "text": [
      "Accuracy: 0.6470356354462314\n",
      "Classification Report:\n",
      "              precision    recall  f1-score   support\n",
      "\n",
      "         0.0       0.95      0.67      0.78     42795\n",
      "         1.0       0.03      0.34      0.06       944\n",
      "         2.0       0.35      0.56      0.43      6997\n",
      "\n",
      "    accuracy                           0.65     50736\n",
      "   macro avg       0.45      0.52      0.43     50736\n",
      "weighted avg       0.85      0.65      0.72     50736\n",
      "\n"
     ]
    }
   ],
   "source": [
    "# THIS IS THE SAMPLING CODE\n",
    "data = pd.read_csv(\"/Users/jorgegutierrezjr./Downloads/diabetes_012_health_indicators_BRFSS2015.csv\")\n",
    "# below is the Features values\n",
    "#print(data)\n",
    "X = data.drop(\"Diabetes_012\", axis=1)  # Features\n",
    "y = data[\"Diabetes_012\"]  # Target variable\n",
    "\n",
    "#split data into training and testing sets\n",
    "#decide how to split them, 2/8..1/9...4/6..\n",
    "X_train, X_test, y_train, y_test = train_test_split(X, y, test_size=0.2, random_state=42)\n",
    "\n",
    "sampling_values = {0: 1000, 1:1000, 2:1000}\n",
    "random_UnderSampled = RandomUnderSampler(sampling_strategy=sampling_values)\n",
    "X_train_resampled, y_train_resampled = random_UnderSampled.fit_resample(X_train, y_train) #valueerror\n",
    "\n",
    "model = LogisticRegression(solver='lbfgs', max_iter=2000)\n",
    "model.fit(X_train_resampled, y_train_resampled)\n",
    "\n",
    "\n",
    "predictions = model.predict(X_test)\n",
    "\n",
    "#resulting accuracy\n",
    "accuracy = accuracy_score(y_test, predictions)\n",
    "print(f'Accuracy: {accuracy}')\n",
    "print('Classification Report:')\n",
    "print(classification_report(y_test, predictions))"
   ]
  },
  {
   "cell_type": "code",
   "execution_count": 24,
   "id": "f1234747",
   "metadata": {},
   "outputs": [
    {
     "name": "stdout",
     "output_type": "stream",
     "text": [
      "Accuracy: 0.6476072216966257\n",
      "Classification Report:\n",
      "              precision    recall  f1-score   support\n",
      "\n",
      "         0.0       0.95      0.66      0.78     42795\n",
      "         1.0       0.03      0.31      0.06       944\n",
      "         2.0       0.35      0.59      0.44      6997\n",
      "\n",
      "    accuracy                           0.65     50736\n",
      "   macro avg       0.45      0.52      0.43     50736\n",
      "weighted avg       0.85      0.65      0.72     50736\n",
      "\n"
     ]
    }
   ],
   "source": [
    "# THIS IS BEFORE UNDERSAMPLING\n",
    "data = pd.read_csv(\"/Users/jorgegutierrezjr./Downloads/diabetes_012_health_indicators_BRFSS2015.csv\")\n",
    "# below is the Features values\n",
    "#print(data)\n",
    "X = data.drop(\"Diabetes_012\", axis=1)  # Features\n",
    "y = data[\"Diabetes_012\"]  # Target variable\n",
    "\n",
    "#split data into training and testing sets\n",
    "#decide how to split them, 2/8..1/9...4/6..\n",
    "X_train, X_test, y_train, y_test = train_test_split(X, y, test_size=0.2, random_state=42)\n",
    "\n",
    "\n",
    "model = LogisticRegression(solver='lbfgs', max_iter=1500)\n",
    "model.fit(X_train, y_train)\n",
    "\n",
    "\n",
    "predictions = model.predict(X_test)\n",
    "\n",
    "#resulting accuracy\n",
    "accuracy = accuracy_score(y_test, predictions)\n",
    "print(f'Accuracy: {accuracy}')\n",
    "print('Classification Report:')\n",
    "print(classification_report(y_test, predictions))"
   ]
  }
 ],
 "metadata": {
  "kernelspec": {
   "display_name": "Python 3 (ipykernel)",
   "language": "python",
   "name": "python3"
  },
  "language_info": {
   "codemirror_mode": {
    "name": "ipython",
    "version": 3
   },
   "file_extension": ".py",
   "mimetype": "text/x-python",
   "name": "python",
   "nbconvert_exporter": "python",
   "pygments_lexer": "ipython3",
   "version": "3.9.12"
  }
 },
 "nbformat": 4,
 "nbformat_minor": 5
}
